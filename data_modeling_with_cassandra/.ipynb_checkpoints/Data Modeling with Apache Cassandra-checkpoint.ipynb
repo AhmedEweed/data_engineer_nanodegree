{
 "cells": [
  {
   "cell_type": "markdown",
   "metadata": {},
   "source": [
    "# Part I. ETL Pipeline for Pre-Processing the Files"
   ]
  },
  {
   "cell_type": "markdown",
   "metadata": {},
   "source": [
    "#### Import Python packages "
   ]
  },
  {
   "cell_type": "code",
   "execution_count": 2,
   "metadata": {},
   "outputs": [],
   "source": [
    "# Import Python packages \n",
    "import pandas as pd\n",
    "import cassandra\n",
    "import re\n",
    "import os\n",
    "import glob\n",
    "import numpy as np\n",
    "import json\n",
    "import csv"
   ]
  },
  {
   "cell_type": "markdown",
   "metadata": {},
   "source": [
    "#### Creating list of filepaths to process original event csv data files"
   ]
  },
  {
   "cell_type": "code",
   "execution_count": 6,
   "metadata": {},
   "outputs": [
    {
     "name": "stdout",
     "output_type": "stream",
     "text": [
      "E:\\Projects\\data_engineer_nanodegree\\data_modeling_with_cassandra\n"
     ]
    }
   ],
   "source": [
    "# checking my current working directory\n",
    "print(os.getcwd())\n",
    "\n",
    "# Get your current folder and subfolder event data\n",
    "filepath = os.getcwd() + '/event_data'\n",
    "\n",
    "# Create a for loop to create a list of files and collect each filepath\n",
    "for root, dirs, files in os.walk(filepath):\n",
    "    \n",
    "# join the file path and roots with the subdirectories using glob\n",
    "    file_path_list = glob.glob(os.path.join(root,'*'))\n",
    "#     print(file_path_list)"
   ]
  },
  {
   "cell_type": "markdown",
   "metadata": {},
   "source": [
    "#### Processing the files to create the data file csv that will be used for Apache Casssandra tables"
   ]
  },
  {
   "cell_type": "code",
   "execution_count": 7,
   "metadata": {},
   "outputs": [],
   "source": [
    "# initiating an empty list of rows that will be generated from each file\n",
    "full_data_rows_list = [] \n",
    "    \n",
    "# for every filepath in the file path list \n",
    "for f in file_path_list:\n",
    "\n",
    "# reading csv file \n",
    "    with open(f, 'r', encoding = 'utf8', newline='') as csvfile: \n",
    "        # creating a csv reader object \n",
    "        csvreader = csv.reader(csvfile) \n",
    "        next(csvreader)\n",
    "        \n",
    " # extracting each data row one by one and append it        \n",
    "        for line in csvreader:\n",
    "            #print(line)\n",
    "            full_data_rows_list.append(line) \n",
    "\n",
    "# creating a smaller event data csv file called event_datafile_full csv that will be used to insert data into the \\\n",
    "# Apache Cassandra tables\n",
    "csv.register_dialect('myDialect', quoting=csv.QUOTE_ALL, skipinitialspace=True)\n",
    "\n",
    "with open('event_datafile_new.csv', 'w', encoding = 'utf8', newline='') as f:\n",
    "    writer = csv.writer(f, dialect='myDialect')\n",
    "    writer.writerow(['artist','firstName','gender','itemInSession','lastName','length',\\\n",
    "                'level','location','sessionId','song','userId'])\n",
    "    for row in full_data_rows_list:\n",
    "        if (row[0] == ''):\n",
    "            continue\n",
    "        writer.writerow((row[0], row[2], row[3], row[4], row[5], row[6], row[7], row[8], row[12], row[13], row[16]))\n"
   ]
  },
  {
   "cell_type": "code",
   "execution_count": 8,
   "metadata": {},
   "outputs": [
    {
     "name": "stdout",
     "output_type": "stream",
     "text": [
      "6821\n"
     ]
    }
   ],
   "source": [
    "# check the number of rows in your csv file\n",
    "with open('event_datafile_new.csv', 'r', encoding = 'utf8') as f:\n",
    "    print(sum(1 for line in f))"
   ]
  },
  {
   "cell_type": "markdown",
   "metadata": {},
   "source": [
    "# Part II. Complete the Apache Cassandra coding portion of your project. \n",
    "\n",
    "## Now we are ready to work with the CSV file titled <font color=red>event_datafile_new.csv</font>, located within the Workspace directory.  The event_datafile_new.csv contains the following columns: \n",
    "- artist \n",
    "- firstName of user\n",
    "- gender of user\n",
    "- item number in session\n",
    "- last name of user\n",
    "- length of the song\n",
    "- level (paid or free song)\n",
    "- location of the user\n",
    "- sessionId\n",
    "- song title\n",
    "- userId\n",
    "\n",
    "The image below is a screenshot of what the denormalized data should appear like in the <font color=red>**event_datafile_new.csv**</font> after the code above is run:<br>\n",
    "\n",
    "<img src=\"images/image_event_datafile_new.jpg\">"
   ]
  },
  {
   "cell_type": "markdown",
   "metadata": {},
   "source": [
    "#### Creating a Cluster"
   ]
  },
  {
   "cell_type": "code",
   "execution_count": 9,
   "metadata": {},
   "outputs": [],
   "source": [
    "from cassandra.cluster import Cluster\n",
    "cluster = Cluster()\n",
    "\n",
    "# To establish connection and begin executing queries, we need a session\n",
    "session = cluster.connect()"
   ]
  },
  {
   "cell_type": "markdown",
   "metadata": {},
   "source": [
    "#### Create Keyspace"
   ]
  },
  {
   "cell_type": "code",
   "execution_count": 10,
   "metadata": {},
   "outputs": [],
   "source": [
    "# Creating a Keyspace named sparkify\n",
    "try: session.execute(\"\"\" \n",
    "                         create keyspace if not exists sparkify \n",
    "                         with replication = {'class' : 'SimpleStrategy', 'replication_factor' : 1}\n",
    "                     \"\"\")\n",
    "except Exception as e:\n",
    "                     print(e)"
   ]
  },
  {
   "cell_type": "markdown",
   "metadata": {},
   "source": [
    "#### Set Keyspace"
   ]
  },
  {
   "cell_type": "code",
   "execution_count": 11,
   "metadata": {},
   "outputs": [],
   "source": [
    "# Setting KEYSPACE to sparkify in order to use it\n",
    "try:\n",
    "    session.set_keyspace('sparkify')\n",
    "except Exception as e:\n",
    "    print(e)"
   ]
  },
  {
   "cell_type": "markdown",
   "metadata": {},
   "source": [
    "### Query #1 \n",
    "### Give me the artist, song title and song's length in the music app history\n",
    "### that was heard during  sessionId = 338, and itemInSession  = 4\n",
    "\n",
    "#### To answer this question we will need to get the artist name, song title, and song length \n",
    "#### from our table and we will need to filter by sessionId and itemInSession \n",
    "#### In CQL our query looks like:\n",
    "\n",
    "``` SELECT artist, song_title, song_length from sessions_data where sessionId = 338 and itemInSession = 4 ```\n",
    "\n",
    "- We will name our table sessions_data\n",
    "- Our primary key will consist of partition key sessionId, and clustering key itemInSession so that we can filter by this attributes later on.\n",
    "- The columns of our table will be: sessionId, itemInSession, artist, song_title and song_length.\n",
    "\n",
    "#### the results should look like this:\n",
    "\n",
    "\n",
    "| |artist   |song_title                     |song_length|\n",
    "|-|---------|-------------------------------|-----------|\n",
    "|0|Faithless|Music Matters (Mark Knight Dub)|495.307312 |"
   ]
  },
  {
   "cell_type": "code",
   "execution_count": 12,
   "metadata": {},
   "outputs": [],
   "source": [
    "session_query = \"\"\"create table if not exists sessions_data\n",
    "                       (sessionId int, itemInSession int, artist varchar, song_title varchar, song_length float,\n",
    "                       PRIMARY KEY (sessionId, itemInSession))\"\"\"\n",
    "try:\n",
    "    session.execute(session_query)\n",
    "except Exception as e:\n",
    "    print(e)"
   ]
  },
  {
   "cell_type": "code",
   "execution_count": 13,
   "metadata": {},
   "outputs": [],
   "source": [
    "file = 'event_datafile_new.csv'\n",
    "\n",
    "with open(file, encoding = 'utf8') as f:\n",
    "    csvreader = csv.reader(f)\n",
    "    next(csvreader)\n",
    "    for line in csvreader:\n",
    "        query = \"insert into sessions_data (sessionId, itemInSession, artist, song_title, song_length) \"\n",
    "        query = query + \"values (%s, %s, %s, %s, %s)\"\n",
    "        \n",
    "        # indexing items for easy line[]\n",
    "        # artist_name[0], user_name[1], gender[2], itemInSession[3], user_last_name[4], length[5], level[6], location[7], sessionId[8], song[9], userId[10]\n",
    "        try:\n",
    "            session.execute(query, (int(line[8]), int(line[3]), line[0], line[9], float(line[5])))\n",
    "        except Exception as e:\n",
    "            print(e)"
   ]
  },
  {
   "cell_type": "code",
   "execution_count": 14,
   "metadata": {
    "scrolled": true
   },
   "outputs": [
    {
     "name": "stdout",
     "output_type": "stream",
     "text": [
      "      artist                       song_title  song_length\n",
      "0  Faithless  Music Matters (Mark Knight Dub)   495.307312\n"
     ]
    }
   ],
   "source": [
    "# Query 1:  Give me the artist, song title and song's length in the music app history that was heard during sessionId = 338, and itemInSession = 4\n",
    "\n",
    "query = \"select artist, song_title, song_length from sessions_data where sessionId = 338 and itemInSession = 4\"\n",
    "try:\n",
    "    df = pd.DataFrame(list(session.execute(query)))\n",
    "    print(df)\n",
    "except Exception as e:\n",
    "    print(e)"
   ]
  },
  {
   "cell_type": "markdown",
   "metadata": {},
   "source": [
    "### Query #2\n",
    "### Give me only the following: name of artist, song (sorted by itemInSession)\n",
    "### and user (first and last name) for userid = 10, sessionid = 182\n",
    "\n",
    "#### To answer this question we will need to get the artist name, song name, user name and user lastname from our table, \n",
    "#### we will need to filter by userId and sessionId, and order by itemInSession.\n",
    "\n",
    "In CQL our query looks like:\n",
    "```\n",
    "SELECT itemInSession, artist, song_title, first_name, last_name from song_data where user_id = 10\n",
    "and session_id = 182\n",
    "```\n",
    "\n",
    "- We will name our table song_data\n",
    "- Our primary key will consist of composite partition key user_id, session_id.   \n",
    "  The reason for this is that if we only use userId as partition key, the session_id which belongs to the same user will be put into different nodes,   \n",
    "  which will have the performance issue when the volume of data is large.\n",
    "- Our clustering key will be itemInSession so that our results are ordered by it.\n",
    "- The columns of our table will be: user_id, session_id, itemInSession, artist, song_title, first_name and last_name.\n",
    "\n",
    "#### the results should look like tihs:\n",
    "\n",
    "\n",
    "|iteminsession|artist           |song_title                                          |first_name|last_name|\n",
    "|-------------|-----------------|----------------------------------------------------|----------|---------|\n",
    "|0            |Down To The Bone |Keep On Keepin' On                                  |Sylvie    |Cruz     |\n",
    "|1            |Three Drives     |Greece 2000                                         |Sylvie    |Cruz     |\n",
    "|2            |Sebastien Tellier|Kilometer                                           |Sylvie    |Cruz     |\n",
    "|3            |Lonnie Gordon    |Catch You Baby (Steve Pitron & Max Sanna Radio Edit)|Sylvie    |Cruz     |"
   ]
  },
  {
   "cell_type": "code",
   "execution_count": 15,
   "metadata": {},
   "outputs": [],
   "source": [
    "songs_query = \"\"\"create table if not exists song_data\n",
    "                       (user_id int, session_id int, , artist varchar, song_title varchar, first_name varchar, last_name varchar, itemInSession int,\n",
    "                       PRIMARY KEY ((user_id, session_id), itemInSession))\"\"\"\n",
    "try:\n",
    "    session.execute(songs_query)\n",
    "except Exception as e:\n",
    "    print(e)                    "
   ]
  },
  {
   "cell_type": "code",
   "execution_count": 16,
   "metadata": {},
   "outputs": [],
   "source": [
    "file = 'event_datafile_new.csv'\n",
    "\n",
    "with open(file, encoding = 'utf8') as f:\n",
    "    csvreader = csv.reader(f)\n",
    "    next(csvreader) # skip header\n",
    "    for line in csvreader:\n",
    "        query = \"insert into song_data (user_id, session_id, artist, song_title, first_name, last_name, itemInSession)\"\n",
    "        query = query + \"values(%s, %s, %s, %s, %s, %s, %s)\"\n",
    "        # indexing line items for easy line[]\n",
    "        # artist_name[0], user_name[1], gender[2], itemInSession[3], user_last_name[4], length[5], level[6], location[7], sessionId[8], song[9], userId[10]\n",
    "        try:\n",
    "            session.execute(query, (int(line[10]), int(line[8]), line[0], line[9], line[1], line[4], int(line[3])))\n",
    "        except Exception as e:\n",
    "                            print(e)"
   ]
  },
  {
   "cell_type": "code",
   "execution_count": 17,
   "metadata": {},
   "outputs": [
    {
     "name": "stdout",
     "output_type": "stream",
     "text": [
      "              artist                                         song_title  \\\n",
      "0   Down To The Bone                                 Keep On Keepin' On   \n",
      "1       Three Drives                                        Greece 2000   \n",
      "2  Sebastien Tellier                                          Kilometer   \n",
      "3      Lonnie Gordon  Catch You Baby (Steve Pitron & Max Sanna Radio...   \n",
      "\n",
      "  first_name last_name  \n",
      "0     Sylvie      Cruz  \n",
      "1     Sylvie      Cruz  \n",
      "2     Sylvie      Cruz  \n",
      "3     Sylvie      Cruz  \n"
     ]
    }
   ],
   "source": [
    "# Query 2: Give me only the following: name of artist, song (sorted by itemInSession) and user (first and last name) for userid = 10, sessionid = 182\n",
    "\n",
    "query = \"select itemInSession, artist, song_title, first_name, last_name from song_data where session_id = 182 and user_id = 10\"\n",
    "try:\n",
    "    df = pd.DataFrame(list(session.execute(query)))\n",
    "    print(df[['artist', 'song_title', 'first_name', 'last_name']])\n",
    "except Exception as e:\n",
    "    print(e)"
   ]
  },
  {
   "cell_type": "markdown",
   "metadata": {},
   "source": [
    "### Query #3\n",
    "### Give me every user name (first and last) in my music app history\n",
    "### who listened to the song 'All Hands Against His Own'\n",
    "\n",
    "#### To answer this question we will need to get the user first name and last name from our table,   \n",
    "#### and we will need to filter by song name. \n",
    "#### As user name and lastname, in large datasets, are not unique, we will add the column userId to uniquely identify users.\n",
    "\n",
    "In CQL our query looks like:\n",
    "\n",
    "```\n",
    "SELECT first_name, last_name from history_data where song_title = 'All Hands Against His Own'\n",
    "```\n",
    "- We will name our table history_data\n",
    "- Our primary key will consist of partition key song_title, and clustering key user_id. This uniquely identifies our rows.\n",
    "- The columns of our table will be: song_title, first_name, last_name and user_id.\n",
    "\n",
    "the results should look like this:\n",
    "\n",
    "\n",
    "| |first_name|last_name|\n",
    "|-|----------|---------|\n",
    "|0|Jacqueline|Lynch    |\n",
    "|1|Tegan     |Levine   |\n",
    "|2|Sara      |Johnson  |"
   ]
  },
  {
   "cell_type": "code",
   "execution_count": 18,
   "metadata": {},
   "outputs": [],
   "source": [
    "user_history_query = \"\"\"create table if not exists history_data\n",
    "                       (song_title varchar, first_name varchar, last_name varchar, user_id int,\n",
    "                       PRIMARY KEY (song_title, user_id))\"\"\"\n",
    "try:\n",
    "    session.execute(user_history_query)\n",
    "except Exception as e:\n",
    "    print(e)"
   ]
  },
  {
   "cell_type": "code",
   "execution_count": 19,
   "metadata": {},
   "outputs": [],
   "source": [
    "file = 'event_datafile_new.csv'\n",
    "\n",
    "with open(file, encoding = 'utf8') as f:\n",
    "    csvreader = csv.reader(f)\n",
    "    next(csvreader) # skip header\n",
    "    for line in csvreader:\n",
    "        query = \"insert into history_data (song_title, first_name, last_name, user_id)\"\n",
    "        query = query + \"values(%s, %s, %s, %s)\"\n",
    "        # indexing line items for easy line[]\n",
    "        # artist_name[0], user_name[1], gender[2], itemInSession[3], user_last_name[4], length[5], level[6], location[7], sessionId[8], song[9], userId[10] = line\n",
    "        try:\n",
    "            session.execute(query, (line[9], line[1], line[4], int(line[10])))\n",
    "        except Exception as e:\n",
    "            print(e)"
   ]
  },
  {
   "cell_type": "code",
   "execution_count": 20,
   "metadata": {},
   "outputs": [
    {
     "name": "stdout",
     "output_type": "stream",
     "text": [
      "   first_name last_name\n",
      "0  Jacqueline     Lynch\n",
      "1       Tegan    Levine\n",
      "2        Sara   Johnson\n"
     ]
    }
   ],
   "source": [
    "# Query 3: Give me every user name (first and last) in my music app history who listened to the song 'All Hands Against His Own'\n",
    "\n",
    "query = \"select first_name, last_name from history_data where song_title = 'All Hands Against His Own'\"\n",
    "\n",
    "try:\n",
    "    df = pd.DataFrame(list(session.execute(query)))\n",
    "    print(df)\n",
    "except Exception as e:\n",
    "    print(e)"
   ]
  },
  {
   "cell_type": "markdown",
   "metadata": {},
   "source": [
    "### Dropping the tables before closing out the sessions"
   ]
  },
  {
   "cell_type": "code",
   "execution_count": 21,
   "metadata": {},
   "outputs": [
    {
     "data": {
      "text/plain": [
       "<cassandra.cluster.ResultSet at 0xe20e997610>"
      ]
     },
     "execution_count": 21,
     "metadata": {},
     "output_type": "execute_result"
    }
   ],
   "source": [
    "# Drop the table before closing out the sessions\n",
    "query1 = \"drop table sessions_data\"\n",
    "query2 = \"drop table song_data\"\n",
    "query3 = \"drop table history_data\"\n",
    "\n",
    "session.execute(query1)\n",
    "session.execute(query2)\n",
    "session.execute(query3)"
   ]
  },
  {
   "cell_type": "markdown",
   "metadata": {},
   "source": [
    "### Closing the session and cluster connection¶"
   ]
  },
  {
   "cell_type": "code",
   "execution_count": 22,
   "metadata": {},
   "outputs": [],
   "source": [
    "session.shutdown()\n",
    "cluster.shutdown()"
   ]
  },
  {
   "cell_type": "code",
   "execution_count": null,
   "metadata": {},
   "outputs": [],
   "source": []
  }
 ],
 "metadata": {
  "kernelspec": {
   "display_name": "Python 3",
   "language": "python",
   "name": "python3"
  }
 },
 "nbformat": 4,
 "nbformat_minor": 4
}
